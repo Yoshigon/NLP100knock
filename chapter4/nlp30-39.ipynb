{
 "cells": [
  {
   "cell_type": "markdown",
   "metadata": {},
   "source": [
    "### 30. 形態素解析結果の読み込み"
   ]
  },
  {
   "cell_type": "code",
   "execution_count": 1,
   "metadata": {},
   "outputs": [],
   "source": [
    "def line_to_dict(line):\n",
    "    if line == 'EOS' or line == '':\n",
    "        return None\n",
    "    tmp = line.split('\\t')\n",
    "    pos = tmp[1].split(',')\n",
    "    dic = {\n",
    "        'surface' : tmp[0],\n",
    "        'pos' : pos[0],\n",
    "        'pos1' : pos[1],\n",
    "        'base' : pos[6]}\n",
    "    return dic"
   ]
  },
  {
   "cell_type": "code",
   "execution_count": 2,
   "metadata": {},
   "outputs": [],
   "source": [
    "def mecab_to_list(f):\n",
    "    lst = []\n",
    "    tmp = []\n",
    "    for line in f:\n",
    "        line = line.rstrip('\\n')\n",
    "        dic = line_to_dict(line)\n",
    "        if dic is not None:\n",
    "            tmp.append(dic)\n",
    "        elif tmp:\n",
    "            lst.append(tmp)\n",
    "            tmp = []\n",
    "    return lst"
   ]
  },
  {
   "cell_type": "code",
   "execution_count": 3,
   "metadata": {},
   "outputs": [],
   "source": [
    "with open('./neko.txt.mecab') as f:\n",
    "    neko = mecab_to_list(f)"
   ]
  },
  {
   "cell_type": "code",
   "execution_count": 4,
   "metadata": {},
   "outputs": [
    {
     "data": {
      "text/plain": [
       "[[{'surface': '一', 'pos': '名詞', 'pos1': '数', 'base': '一'}],\n",
       " [{'surface': '\\u3000', 'pos': '記号', 'pos1': '空白', 'base': '\\u3000'},\n",
       "  {'surface': '吾輩', 'pos': '名詞', 'pos1': '代名詞', 'base': '吾輩'},\n",
       "  {'surface': 'は', 'pos': '助詞', 'pos1': '係助詞', 'base': 'は'},\n",
       "  {'surface': '猫', 'pos': '名詞', 'pos1': '一般', 'base': '猫'},\n",
       "  {'surface': 'で', 'pos': '助動詞', 'pos1': '*', 'base': 'だ'},\n",
       "  {'surface': 'ある', 'pos': '助動詞', 'pos1': '*', 'base': 'ある'},\n",
       "  {'surface': '。', 'pos': '記号', 'pos1': '句点', 'base': '。'}],\n",
       " [{'surface': '名前', 'pos': '名詞', 'pos1': '一般', 'base': '名前'},\n",
       "  {'surface': 'は', 'pos': '助詞', 'pos1': '係助詞', 'base': 'は'},\n",
       "  {'surface': 'まだ', 'pos': '副詞', 'pos1': '助詞類接続', 'base': 'まだ'},\n",
       "  {'surface': '無い', 'pos': '形容詞', 'pos1': '自立', 'base': '無い'},\n",
       "  {'surface': '。', 'pos': '記号', 'pos1': '句点', 'base': '。'}]]"
      ]
     },
     "execution_count": 4,
     "metadata": {},
     "output_type": "execute_result"
    }
   ],
   "source": [
    "neko[:3]"
   ]
  },
  {
   "cell_type": "markdown",
   "metadata": {},
   "source": [
    "### 31. 動詞"
   ]
  },
  {
   "cell_type": "code",
   "execution_count": 5,
   "metadata": {},
   "outputs": [],
   "source": [
    "verb_surface = set()\n",
    "for sentence in neko:\n",
    "    for mor in sentence:\n",
    "        if mor['pos'] == '動詞':\n",
    "            verb_surface.add(mor['surface'])"
   ]
  },
  {
   "cell_type": "markdown",
   "metadata": {},
   "source": [
    "### 32. 動詞の基本形"
   ]
  },
  {
   "cell_type": "code",
   "execution_count": 6,
   "metadata": {},
   "outputs": [],
   "source": [
    "verb_base = set()\n",
    "for sentence in neko:\n",
    "    for mor in sentence:\n",
    "        if mor['pos'] == '動詞':\n",
    "            verb_base.add(mor['base'])"
   ]
  },
  {
   "cell_type": "markdown",
   "metadata": {},
   "source": [
    "### 33. 「AのB」"
   ]
  },
  {
   "cell_type": "code",
   "execution_count": 7,
   "metadata": {},
   "outputs": [],
   "source": [
    "B_of_A = []\n",
    "for sentence in neko:\n",
    "    for i in range(1, len(sentence)-1):\n",
    "        if sentence[i]['surface'] == 'の':\n",
    "            if (sentence[i-1]['pos'] == '名詞') and (sentence[i+1]['pos'] == '名詞'):\n",
    "                B_of_A.append(sentence[i-1]['surface'] + 'の' + sentence[i+1]['surface'])"
   ]
  },
  {
   "cell_type": "code",
   "execution_count": 8,
   "metadata": {},
   "outputs": [
    {
     "data": {
      "text/plain": [
       "['彼の掌', '掌の上', '書生の顔', 'はずの顔', '顔の真中', '穴の中', '書生の掌', '掌の裏', '何の事', '肝心の母親']"
      ]
     },
     "execution_count": 8,
     "metadata": {},
     "output_type": "execute_result"
    }
   ],
   "source": [
    "B_of_A[:10]"
   ]
  },
  {
   "cell_type": "markdown",
   "metadata": {},
   "source": [
    "### 34. 名詞の連接"
   ]
  },
  {
   "cell_type": "code",
   "execution_count": 10,
   "metadata": {},
   "outputs": [
    {
     "name": "stdout",
     "output_type": "stream",
     "text": [
      "['薫風南', '仏師屋', '共実行', '技倆', '宿場女郎', '狂瀾怒濤', '清戯', '皆川流', '東郷閣下', '中学一年生']\n"
     ]
    }
   ],
   "source": [
    "consecutive_noun = set()\n",
    "for sentence in neko:\n",
    "    for i in range(len(sentence)-1):\n",
    "        if sentence[i]['pos'] == sentence[i+1]['pos'] == '名詞':\n",
    "            head = i\n",
    "            tail = i+1\n",
    "            while tail < len(sentence)-1:\n",
    "                if sentence[tail]['pos'] == '名詞':\n",
    "                    tail += 1\n",
    "                else:\n",
    "                    break\n",
    "            tmp = ''\n",
    "            for j in range(head, tail):\n",
    "                tmp += sentence[j]['surface']\n",
    "            consecutive_noun.add(tmp)\n",
    "\n",
    "print(list(consecutive_noun)[:10])"
   ]
  },
  {
   "cell_type": "markdown",
   "metadata": {},
   "source": [
    "### 35. 単語の出現頻度"
   ]
  },
  {
   "cell_type": "code",
   "execution_count": 11,
   "metadata": {},
   "outputs": [],
   "source": [
    "from collections import Counter"
   ]
  },
  {
   "cell_type": "code",
   "execution_count": 12,
   "metadata": {},
   "outputs": [
    {
     "name": "stdout",
     "output_type": "stream",
     "text": [
      "の 9194\n",
      "。 7486\n",
      "て 6868\n",
      "、 6772\n",
      "は 6420\n",
      "に 6243\n",
      "を 6071\n",
      "と 5508\n",
      "が 5337\n",
      "た 3988\n"
     ]
    }
   ],
   "source": [
    "surfaces = [mor['surface'] for sentence in neko for mor in sentence]\n",
    "dist = Counter(surfaces).most_common()\n",
    "\n",
    "for word, freq in dist[:10]:\n",
    "    print(word, freq)"
   ]
  },
  {
   "cell_type": "markdown",
   "metadata": {},
   "source": [
    "### 36. 頻度上位10語"
   ]
  },
  {
   "cell_type": "code",
   "execution_count": 13,
   "metadata": {},
   "outputs": [],
   "source": [
    "import matplotlib.pyplot as plt\n",
    "import japanize_matplotlib"
   ]
  },
  {
   "cell_type": "code",
   "execution_count": 14,
   "metadata": {},
   "outputs": [
    {
     "data": {
      "text/plain": [
       "Text(0, 0.5, '回数')"
      ]
     },
     "execution_count": 14,
     "metadata": {},
     "output_type": "execute_result"
    },
    {
     "data": {
      "image/png": "[encoded data removed]",
      "text/plain": [
       "<Figure size 432x288 with 1 Axes>"
      ]
     },
     "metadata": {
      "needs_background": "light"
     },
     "output_type": "display_data"
    }
   ],
   "source": [
    "words = [word for word, _ in dist[:10]]\n",
    "freqs = [freq for _, freq in dist[:10]]\n",
    "plt.bar(words, freqs)\n",
    "plt.title('頻度上位10語')\n",
    "plt.xlabel('単語')\n",
    "plt.ylabel('回数')"
   ]
  },
  {
   "cell_type": "markdown",
   "metadata": {},
   "source": [
    "### 37. 「猫」と共起頻度の高い上位10語"
   ]
  },
  {
   "cell_type": "code",
   "execution_count": 15,
   "metadata": {},
   "outputs": [
    {
     "data": {
      "text/plain": [
       "Text(0, 0.5, '回数')"
      ]
     },
     "execution_count": 15,
     "metadata": {},
     "output_type": "execute_result"
    },
    {
     "data": {
      "image/png": "[encoded data removed]",
      "text/plain": [
       "<Figure size 432x288 with 1 Axes>"
      ]
     },
     "metadata": {
      "needs_background": "light"
     },
     "output_type": "display_data"
    }
   ],
   "source": [
    "collocation = {}\n",
    "for sentence in neko:\n",
    "    flag = 0\n",
    "    for word in sentence:\n",
    "        if word['surface'] == '猫':\n",
    "            flag = 1\n",
    "    if flag:\n",
    "        for word in sentence:\n",
    "            if word['surface'] == '猫':\n",
    "                continue\n",
    "            else:\n",
    "                if word['surface'] in collocation:\n",
    "                    collocation[word['surface']] += 1\n",
    "                else:\n",
    "                    collocation[word['surface']] = 1\n",
    "\n",
    "word_freq = []\n",
    "for key, value in collocation.items():\n",
    "    word_freq.append((value, key))\n",
    "word_freq.sort(reverse=True)\n",
    "words = []\n",
    "freqs = []\n",
    "for i in range(10):\n",
    "    freqs.append(word_freq[i][0])\n",
    "    words.append(word_freq[i][1])\n",
    "plt.bar(words, freqs)\n",
    "plt.title('共起頻度頻度上位10語')\n",
    "plt.xlabel('単語')\n",
    "plt.ylabel('回数')"
   ]
  },
  {
   "cell_type": "markdown",
   "metadata": {},
   "source": [
    "### 38.ヒストグラム"
   ]
  },
  {
   "cell_type": "code",
   "execution_count": 16,
   "metadata": {},
   "outputs": [
    {
     "data": {
      "text/plain": [
       "(array([4.716e+03, 1.905e+03, 9.570e+02, 6.030e+02, 4.590e+02, 3.240e+02,\n",
       "        2.410e+02, 2.070e+02, 1.590e+02, 1.250e+02, 1.200e+02, 1.190e+02,\n",
       "        8.300e+01, 9.600e+01, 7.400e+01, 5.200e+01, 4.900e+01, 5.700e+01,\n",
       "        4.600e+01, 4.300e+01, 3.000e+01, 2.900e+01, 3.100e+01, 3.400e+01,\n",
       "        2.100e+01, 1.900e+01, 2.500e+01, 1.900e+01, 2.200e+01, 2.200e+01,\n",
       "        1.200e+01, 1.600e+01, 1.300e+01, 1.400e+01, 1.900e+01, 1.700e+01,\n",
       "        8.000e+00, 1.400e+01, 1.000e+01, 1.300e+01, 1.500e+01, 1.000e+01,\n",
       "        7.000e+00, 9.000e+00, 1.100e+01, 9.000e+00, 8.000e+00, 8.000e+00,\n",
       "        4.000e+00, 6.000e+00]),\n",
       " array([ 1.  ,  1.98,  2.96,  3.94,  4.92,  5.9 ,  6.88,  7.86,  8.84,\n",
       "         9.82, 10.8 , 11.78, 12.76, 13.74, 14.72, 15.7 , 16.68, 17.66,\n",
       "        18.64, 19.62, 20.6 , 21.58, 22.56, 23.54, 24.52, 25.5 , 26.48,\n",
       "        27.46, 28.44, 29.42, 30.4 , 31.38, 32.36, 33.34, 34.32, 35.3 ,\n",
       "        36.28, 37.26, 38.24, 39.22, 40.2 , 41.18, 42.16, 43.14, 44.12,\n",
       "        45.1 , 46.08, 47.06, 48.04, 49.02, 50.  ]),\n",
       " <a list of 50 Patch objects>)"
      ]
     },
     "execution_count": 16,
     "metadata": {},
     "output_type": "execute_result"
    },
    {
     "data": {
      "image/png": "[encoded data removed]",
      "text/plain": [
       "<Figure size 432x288 with 1 Axes>"
      ]
     },
     "metadata": {
      "needs_background": "light"
     },
     "output_type": "display_data"
    }
   ],
   "source": [
    "words = [\n",
    "    dct['base']\n",
    "    for sent in neko\n",
    "    for dct in sent]\n",
    "cnt = Counter(words).most_common()\n",
    "\n",
    "dist = [freq for _, freq in cnt]\n",
    "\n",
    "plt.title('ヒストグラム')\n",
    "plt.xlabel('単語')\n",
    "plt.ylabel('頻度')\n",
    "plt.hist(dist, bins=50, range=(1,50))"
   ]
  },
  {
   "cell_type": "markdown",
   "metadata": {},
   "source": [
    "### 39. Zipfの法則"
   ]
  },
  {
   "cell_type": "code",
   "execution_count": 17,
   "metadata": {},
   "outputs": [
    {
     "data": {
      "text/plain": [
       "[<matplotlib.lines.Line2D at 0x7fc866931d00>]"
      ]
     },
     "execution_count": 17,
     "metadata": {},
     "output_type": "execute_result"
    },
    {
     "data": {
      "image/png": "[encoded data removed]",
      "text/plain": [
       "<Figure size 432x288 with 1 Axes>"
      ]
     },
     "metadata": {
      "needs_background": "light"
     },
     "output_type": "display_data"
    }
   ],
   "source": [
    "plt.title('Zipfの法則')\n",
    "plt.xscale('log')\n",
    "plt.yscale('log')\n",
    "plt.xlabel('単語')\n",
    "plt.ylabel('頻度')\n",
    "plt.plot(range(len(dist)), dist)"
   ]
  },
  {
   "cell_type": "code",
   "execution_count": null,
   "metadata": {},
   "outputs": [],
   "source": []
  }
 ],
 "metadata": {
  "kernelspec": {
   "display_name": "Python 3",
   "language": "python",
   "name": "python3"
  },
  "language_info": {
   "codemirror_mode": {
    "name": "ipython",
    "version": 3
   },
   "file_extension": ".py",
   "mimetype": "text/x-python",
   "name": "python",
   "nbconvert_exporter": "python",
   "pygments_lexer": "ipython3",
   "version": "3.8.2"
  }
 },
 "nbformat": 4,
 "nbformat_minor": 4
}
